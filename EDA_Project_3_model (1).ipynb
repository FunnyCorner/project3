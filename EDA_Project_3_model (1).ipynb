{
 "cells": [
  {
   "cell_type": "markdown",
   "metadata": {},
   "source": [
    "# Загрузка данны"
   ]
  },
  {
   "cell_type": "code",
   "execution_count": 40,
   "metadata": {},
   "outputs": [
    {
     "name": "stdout",
     "output_type": "stream",
     "text": [
      "<class 'pandas.core.frame.DataFrame'>\n",
      "RangeIndex: 386803 entries, 0 to 386802\n",
      "Data columns (total 17 columns):\n",
      " #   Column                                      Non-Null Count   Dtype  \n",
      "---  ------                                      --------------   -----  \n",
      " 0   hotel_address                               386803 non-null  object \n",
      " 1   additional_number_of_scoring                386803 non-null  int64  \n",
      " 2   review_date                                 386803 non-null  object \n",
      " 3   average_score                               386803 non-null  float64\n",
      " 4   hotel_name                                  386803 non-null  object \n",
      " 5   reviewer_nationality                        386803 non-null  object \n",
      " 6   negative_review                             386803 non-null  object \n",
      " 7   review_total_negative_word_counts           386803 non-null  int64  \n",
      " 8   total_number_of_reviews                     386803 non-null  int64  \n",
      " 9   positive_review                             386803 non-null  object \n",
      " 10  review_total_positive_word_counts           386803 non-null  int64  \n",
      " 11  total_number_of_reviews_reviewer_has_given  386803 non-null  int64  \n",
      " 12  reviewer_score                              386803 non-null  float64\n",
      " 13  tags                                        386803 non-null  object \n",
      " 14  days_since_review                           386803 non-null  object \n",
      " 15  lat                                         386803 non-null  float64\n",
      " 16  lng                                         386803 non-null  float64\n",
      "dtypes: float64(4), int64(5), object(8)\n",
      "memory usage: 50.2+ MB\n",
      "None\n"
     ]
    }
   ],
   "source": [
    "import pandas as pd\n",
    "import numpy as np\n",
    "from sklearn.model_selection import train_test_split\n",
    "from sklearn.ensemble import RandomForestRegressor\n",
    "from sklearn import metrics\n",
    "import matplotlib.pyplot as plt\n",
    "import seaborn as sns\n",
    "from sklearn.feature_selection import chi2, f_classif, SelectKBest\n",
    "from collections import Counter\n",
    "import geopy\n",
    "from geopy.exc import GeocoderTimedOut\n",
    "from geopy.geocoders import Nominatim\n",
    "import time\n",
    "# Загрузка данных\n",
    "file_path = 'D:/coding/project3/hotels.csv'\n",
    "hotels = pd.read_csv(file_path)\n",
    "hotels.fillna(0, inplace=True)\n",
    "\n",
    "# Вывод информации о данных для определения нужных столбцов\n",
    "print(hotels.info())\n",
    "\n",
    "\n"
   ]
  },
  {
   "cell_type": "markdown",
   "metadata": {},
   "source": [
    "# Очистка данных"
   ]
  },
  {
   "cell_type": "code",
   "execution_count": 41,
   "metadata": {},
   "outputs": [
    {
     "name": "stderr",
     "output_type": "stream",
     "text": [
      "  0%|          | 0/2448 [00:00<?, ?it/s]"
     ]
    },
    {
     "name": "stderr",
     "output_type": "stream",
     "text": [
      " 70%|██████▉   | 1709/2448 [34:07<15:19,  1.24s/it] "
     ]
    }
   ],
   "source": [
    "# Очистка данных\n",
    "def fill_missing_coordinates(df, address_column, lat_column, lng_column):\n",
    "    geolocator = Nominatim(user_agent=\"hotel_locator\")\n",
    "    cache = {}\n",
    "\n",
    "    def geocode_address(address):\n",
    "        if address in cache:\n",
    "            return cache[address]\n",
    "        try:\n",
    "            location = geolocator.geocode(address, timeout=10)\n",
    "            if location:\n",
    "                cache[address] = (location.latitude, location.longitude)\n",
    "                return location.latitude, location.longitude\n",
    "            else:\n",
    "                return (np.nan, np.nan)\n",
    "        except GeocoderTimedOut:\n",
    "            return (np.nan, np.nan)\n",
    "\n",
    "    for index, row in tqdm(df[df[lat_column] == 0].iterrows(), total=df[df[lat_column] == 0].shape[0]):\n",
    "        lat, lng = geocode_address(row[address_column])\n",
    "        df.at[index, lat_column] = lat\n",
    "        df.at[index, lng_column] = lng\n",
    "        # Добавляем задержку для избежания блокировки со стороны API\n",
    "        time.sleep(1)\n",
    "\n",
    "    df.dropna(subset=[lat_column, lng_column], inplace=True)\n",
    "    return df\n",
    "\n",
    "hotels = fill_missing_coordinates(hotels, 'hotel_address', 'lat', 'lng')"
   ]
  },
  {
   "cell_type": "markdown",
   "metadata": {},
   "source": [
    "3. Исследование данных (качество визуализации, наличие идей, гипотез, комментариев)"
   ]
  },
  {
   "cell_type": "code",
   "execution_count": null,
   "metadata": {},
   "outputs": [],
   "source": [
    "# 1. Сколько уникальных названий отелей представлено в наборе данных?\n",
    "unique_hotels = hotels['hotel_name'].nunique()\n",
    "print(f'Уникальных названий отелей: {unique_hotels}')\n",
    "\n",
    "# 2. Когда был оставлен самый свежий отзыв? Введите ответ в формате yyyy-mm-dd.\n",
    "latest_review_date = hotels['review_date'].max()\n",
    "print(f'Самый свежий отзыв оставлен: {latest_review_date}')\n",
    "\n",
    "# 3. Когда был оставлен самый первый отзыв? Введите ответ в формате yyyy-mm-dd.\n",
    "earliest_review_date = hotels['review_date'].min()\n",
    "print(f'Самый первый отзыв оставлен: {earliest_review_date}')\n",
    "\n",
    "# 4. Сколько уникальных тегов представлено в наборе данных?\n",
    "hotels['tags_list'] = hotels['tags'].apply(lambda x: x.split(','))\n",
    "unique_tags = set(tag.strip() for tags in hotels['tags_list'] for tag in tags)\n",
    "print(f'Уникальных тегов: {len(unique_tags)}')\n",
    "\n",
    "# 5. Какой тег представлен в наибольшем числе отзывов?\n",
    "tags_counter = Counter(tag.strip() for tags in hotels['tags_list'] for tag in tags)\n",
    "most_common_tag, most_common_tag_count = tags_counter.most_common(1)[0]\n",
    "print(f'Самый популярный тег: {most_common_tag} ({most_common_tag_count} отзывов)')\n",
    "\n",
    "# 6. Из тегов выясните, на сколько ночей чаще всего останавливаются путешественники в отелях.\n",
    "night_tags = [tag for tag in unique_tags if 'night' in tag.lower()]\n",
    "night_counter = Counter(tag for tags in hotels['tags_list'] for tag in tags if 'night' in tag.lower())\n",
    "most_common_night_tag, most_common_night_count = night_counter.most_common(1)[0]\n",
    "print(f'На сколько ночей чаще всего останавливаются путешественники: {most_common_night_tag} ({most_common_night_count} отзывов)')\n",
    "\n",
    "# Преобразование столбца review_date в тип данных datetime\n",
    "hotels['review_date'] = pd.to_datetime(hotels['review_date'])\n",
    "\n",
    "# Добавление столбцов с годом, месяцем и днем отзыва\n",
    "hotels['review_year'] = hotels['review_date'].dt.year\n",
    "hotels['review_month'] = hotels['review_date'].dt.month\n",
    "hotels['review_day'] = hotels['review_date'].dt.day\n",
    "\n",
    "# Выводим гистограмму распределения отзывов по годам\n",
    "plt.figure(figsize=(10, 5))\n",
    "sns.histplot(hotels['review_year'], kde=False, bins=10)\n",
    "plt.title('Распределение отзывов по годам')\n",
    "plt.xlabel('Год')\n",
    "plt.ylabel('Количество отзывов')\n",
    "plt.show()\n",
    "\n",
    "# Выводим гистограмму распределения длины негативных отзывов\n",
    "hotels['negative_review_length'] = hotels['negative_review'].apply(lambda x: len(x.split()))\n",
    "plt.figure(figsize=(10, 5))\n",
    "sns.histplot(hotels['negative_review_length'], kde=True)\n",
    "plt.title('Распределение длины негативных отзывов')\n",
    "plt.xlabel('Длина негативного отзыва (количество слов)')\n",
    "plt.ylabel('Количество отзывов')\n",
    "plt.show()\n",
    "\n",
    "# Выводим гистограмму распределения длины позитивных отзывов\n",
    "hotels['positive_review_length'] = hotels['positive_review'].apply(lambda x: len(x.split()))\n",
    "plt.figure(figsize=(10, 5))\n",
    "sns.histplot(hotels['positive_review_length'], kde=True)\n",
    "plt.title('Распределение длины позитивных отзывов')\n",
    "plt.xlabel('Длина позитивного отзыва (количество слов)')\n",
    "plt.ylabel('Количество отзывов')\n",
    "plt.show()"
   ]
  },
  {
   "cell_type": "markdown",
   "metadata": {},
   "source": [
    "4. Генерация признаков"
   ]
  },
  {
   "cell_type": "code",
   "execution_count": null,
   "metadata": {},
   "outputs": [],
   "source": [
    "from textblob import TextBlob\n",
    "\n",
    "# Преобразуем категориальные признаки в dummy-переменные\n",
    "columns_to_drop = ['hotel_address', 'review_date', 'negative_review', 'positive_review', 'tags', 'lat', 'lng']\n",
    "hotels.drop(columns=columns_to_drop, inplace=True)\n",
    "\n",
    "# Функция для определения тональности отзыва\n",
    "def get_sentiment(review):\n",
    "    analysis = TextBlob(review)\n",
    "    return analysis.sentiment.polarity\n",
    "\n",
    "hotels['negative_sentiment'] = hotels['negative_review'].apply(get_sentiment)\n",
    "hotels['positive_sentiment'] = hotels['positive_review'].apply(get_sentiment)\n",
    "\n",
    "# Функция для вычисления длины отзыва\n",
    "def review_length(review):\n",
    "    return len(review.split())\n",
    "\n",
    "hotels['negative_review_length'] = hotels['negative_review'].apply(review_length)\n",
    "hotels['positive_review_length'] = hotels['positive_review'].apply(review_length)\n",
    "\n",
    "# Преобразуем категориальные признаки в dummy-переменные\n",
    "categorical_columns = hotels.select_dtypes(include=['object']).columns\n",
    "for col in categorical_columns:\n",
    "    hotels = reduce_categories(hotels, col, top_n=10)\n",
    "\n",
    "hotels = pd.get_dummies(hotels, columns=categorical_columns, drop_first=True)"
   ]
  },
  {
   "cell_type": "markdown",
   "metadata": {},
   "source": [
    "5. Отбор признаков"
   ]
  },
  {
   "cell_type": "code",
   "execution_count": null,
   "metadata": {},
   "outputs": [],
   "source": [
    "import seaborn as sns\n",
    "\n",
    "# Корреляционная матрица\n",
    "corr_matrix = hotels.corr()\n",
    "plt.figure(figsize=(12, 8))\n",
    "sns.heatmap(corr_matrix, annot=True, fmt=\".2f\")\n",
    "plt.title(\"Корреляционная матрица признаков\")\n",
    "plt.show()\n",
    "\n",
    "# Выбор значимых признаков\n",
    "num_cols = ['total_number_of_reviews', \n",
    "            'review_total_negative_word_counts', \n",
    "            'review_total_positive_word_counts', \n",
    "            'days_since_review', \n",
    "            'additional_number_of_scoring']\n",
    "\n",
    "cat_cols = ['average_score', \n",
    "            'review_year', \n",
    "            'review_month', \n",
    "            'review_day']\n",
    "\n",
    "# Оценка значимости категориальных признаков с помощью теста хи-квадрат\n",
    "imp_cat = pd.Series(chi2(X[cat_cols], y)[0], index=cat_cols)\n",
    "imp_cat.sort_values(inplace=True)\n",
    "imp_cat.plot(kind='barh')\n",
    "plt.title('Значимость категориальных признаков')\n",
    "plt.show()\n",
    "\n",
    "# Оценка значимости непрерывных признаков с помощью ANOVA\n",
    "imp_num = pd.Series(f_classif(X[num_cols], y)[0], index=num_cols)\n",
    "imp_num.sort_values(inplace=True)\n",
    "imp_num.plot(kind='barh')\n",
    "plt.title('Значимость непрерывных признаков')\n",
    "plt.show()"
   ]
  },
  {
   "cell_type": "markdown",
   "metadata": {},
   "source": [
    "6. Преобразование признаков"
   ]
  },
  {
   "cell_type": "code",
   "execution_count": null,
   "metadata": {},
   "outputs": [],
   "source": [
    "from category_encoders import BinaryEncoder\n",
    "\n",
    "# Применение бинарного кодирования для категориальных признаков\n",
    "encoder = BinaryEncoder(cols=categorical_columns)\n",
    "hotels_encoded = encoder.fit_transform(hotels)"
   ]
  },
  {
   "cell_type": "markdown",
   "metadata": {},
   "source": [
    "7. Качество решения: результат метрики MAPE"
   ]
  },
  {
   "cell_type": "code",
   "execution_count": null,
   "metadata": {},
   "outputs": [],
   "source": [
    "# Разделение данных на обучающие и тестовые наборы\n",
    "X = hotels.drop(['reviewer_score'], axis=1)\n",
    "y = hotels['reviewer_score']\n",
    "\n",
    "X_train, X_test, y_train, y_test = train_test_split(X, y, test_size=0.25, random_state=42)\n",
    "\n",
    "# Создание и обучение модели\n",
    "regr = RandomForestRegressor(n_estimators=100)\n",
    "regr.fit(X_train, y_train)\n",
    "\n",
    "# Предсказание значений на тестовом наборе данных\n",
    "y_pred = regr.predict(X_test)\n",
    "\n",
    "# Оценка качества модели\n",
    "mape = metrics.mean_absolute_percentage_error(y_test, y_pred)\n",
    "print('MAPE:', mape)\n",
    "\n",
    "# Отбор лучших признаков\n",
    "X_new = SelectKBest(score_func=f_classif, k=10).fit_transform(X, y)\n",
    "\n",
    "# Разделение данных на обучающие и тестовые наборы с новыми признаками\n",
    "X_train_new, X_test_new, y_train_new, y_test_new = train_test_split(X_new, y, test_size=0.25, random_state=42)\n",
    "\n",
    "# Создание и обучение новой модели\n",
    "regr_new = RandomForestRegressor(n_estimators=100)\n",
    "regr_new.fit(X_train_new, y_train_new)\n",
    "\n",
    "# Предсказание значений на тестовом наборе данных с новыми признаками\n",
    "y_pred_new = regr_new.predict(X_test_new)\n",
    "\n",
    "# Оценка качества новой модели\n",
    "mape_new = metrics.mean_absolute_percentage_error(y_test_new, y_pred_new)\n",
    "print('MAPE после отбора признаков:', mape_new)"
   ]
  }
 ],
 "metadata": {
  "kernelspec": {
   "display_name": "Python 3",
   "language": "python",
   "name": "python3"
  },
  "language_info": {
   "codemirror_mode": {
    "name": "ipython",
    "version": 3
   },
   "file_extension": ".py",
   "mimetype": "text/x-python",
   "name": "python",
   "nbconvert_exporter": "python",
   "pygments_lexer": "ipython3",
   "version": "3.10.9"
  }
 },
 "nbformat": 4,
 "nbformat_minor": 2
}
